{
 "cells": [
  {
   "cell_type": "code",
   "execution_count": 2,
   "metadata": {},
   "outputs": [
    {
     "name": "stdout",
     "output_type": "stream",
     "text": [
      "Collecting unidecode\n",
      "  Downloading https://files.pythonhosted.org/packages/d0/42/d9edfed04228bacea2d824904cae367ee9efd05e6cce7ceaaedd0b0ad964/Unidecode-1.1.1-py2.py3-none-any.whl (238kB)\n",
      "Installing collected packages: unidecode\n",
      "Successfully installed unidecode-1.1.1\n"
     ]
    }
   ],
   "source": [
    "#!pip install unidecode"
   ]
  },
  {
   "cell_type": "code",
   "execution_count": 1,
   "metadata": {},
   "outputs": [],
   "source": [
    "from lxml import html\n",
    "import requests\n",
    "import unidecode"
   ]
  },
  {
   "cell_type": "code",
   "execution_count": 2,
   "metadata": {},
   "outputs": [],
   "source": [
    "people_cid = [\n",
    "    \"iola\",\n",
    "    \"maspan\",\n",
    "    \"joma\",\n",
    "    \"hansj\",\n",
    "    \"dagb\",\n",
    "    \"alme\",\n",
    "    \"gorang\",\n",
    "    \"malemyr\",\n",
    "    \"mujakob\",\n",
    "    \"simaria\",\n",
    "    \"borgue\",\n",
    "    \"acatic\",\n",
    "    \"inigoa\",\n",
    "    \"varo\",\n",
    "    \"hanem\",\n",
    "    \"mstrom\",\n",
    "    \"szandra\",\n",
    "]"
   ]
  },
  {
   "cell_type": "code",
   "execution_count": 3,
   "metadata": {},
   "outputs": [],
   "source": [
    "class Publication:\n",
    "    def __init__(self, title, year, publication_cit, publication_type, authors):\n",
    "        self.title = title\n",
    "        self.year = year\n",
    "        self.publication_cit = publication_cit\n",
    "        self.publication_type = publication_type\n",
    "        self.authors = authors"
   ]
  },
  {
   "cell_type": "code",
   "execution_count": 4,
   "metadata": {},
   "outputs": [],
   "source": [
    "class Person:\n",
    "    def __init__(self, cid, name, affiliation, person_bio, publications):\n",
    "        self.cid = cid\n",
    "        self.name = name\n",
    "        self.affiliation = affiliation\n",
    "        self.person_bio = person_bio\n",
    "        self.publications = publications"
   ]
  },
  {
   "cell_type": "code",
   "execution_count": 9,
   "metadata": {},
   "outputs": [
    {
     "name": "stdout",
     "output_type": "stream",
     "text": [
      "Getting info for iola\n",
      "Getting info for maspan\n",
      "Getting info for joma\n",
      "Getting info for hansj\n",
      "Getting info for dagb\n",
      "Getting info for alme\n",
      "Getting info for gorang\n",
      "Getting info for malemyr\n",
      "Getting info for mujakob\n",
      "Getting info for simaria\n",
      "Getting info for borgue\n",
      "Getting info for acatic\n",
      "Getting info for inigoa\n",
      "Getting info for varo\n",
      "Getting info for hanem\n",
      "Getting info for mstrom\n",
      "Getting info for szandra\n"
     ]
    }
   ],
   "source": [
    "people = []\n",
    "for cid in people_cid:\n",
    "    page = requests.get('https://research.chalmers.se/en/person/'+cid)\n",
    "    tree = html.fromstring(page.content)\n",
    "    if page.status_code == 404:\n",
    "        print(f'{cid} does not have a profile in Research Chalmers.')\n",
    "    else:\n",
    "        print(f'Getting info for {cid}')\n",
    "        name = tree.xpath('//h1[@id=\"person-name\"]/span/text()')[0].strip()\n",
    "        affiliation = tree.xpath('//div[@itemprop=\"affiliation\"]/strong/text()')[0].strip().replace(' at','')\n",
    "        try:\n",
    "            person_bio = tree.xpath('//span[@itemprop=\"description\"]/text()')[0].strip()\n",
    "        except:\n",
    "            person_bio = ''\n",
    "        items = tree.xpath('//div[@class=\"publication-item\"]')\n",
    "        publications =  []\n",
    "        for item in items:\n",
    "            title = item.xpath('h4[@class=\"publication-title list-group-item-heading\"]/a/text()')[0]\n",
    "            year = item.xpath('div[@class=\"publication-year pull-right\"]/strong/text()')[0]\n",
    "            publication_cit = item.xpath('div[@id=\"publication-cit\"]/text()')[0].strip()\n",
    "            publication_type = item.xpath('div[@class=\"publication-type\"]/text()')[0].strip()\n",
    "            authors = item.xpath('div/strong/span/text()')\n",
    "            publications.append(Publication(title, year, publication_cit, publication_type, authors))\n",
    "        person = Person(cid, name, affiliation, person_bio, publications)\n",
    "        people.append(person)\n",
    "        file_name = unidecode.unidecode(person.name).lower().replace(' ','-')\n",
    "        with open('_people/'+file_name+'.md', 'w', encoding=\"utf-8\") as file:\n",
    "            # Further file processing goes here\n",
    "            file.writelines(['---','\\n'])\n",
    "            file.writelines(['object-id: ',file_name,'\\n'])\n",
    "            file.writelines(['cid: ',cid,'\\n'])\n",
    "            file.writelines(['name: ',name,'\\n'])\n",
    "            file.writelines(['role: ',affiliation,'\\n'])\n",
    "            file.writelines(['picture: ',file_name+'.jpg','\\n'])\n",
    "            file.writelines(['---','\\n\\n'])\n",
    "            file.writelines([person_bio,'\\n'])\n",
    "        picture_url = tree.xpath('//div[@class=\"person-image pull-right\"]/span/img/@src')[0]\n",
    "        r = requests.get(picture_url, allow_redirects=True)\n",
    "        with open('assets/img/people/'+file_name+'.jpg', 'wb') as picture_file:\n",
    "            picture_file.write(r.content)"
   ]
  },
  {
   "cell_type": "code",
   "execution_count": null,
   "metadata": {},
   "outputs": [],
   "source": []
  }
 ],
 "metadata": {
  "kernelspec": {
   "display_name": "Python 3",
   "language": "python",
   "name": "python3"
  },
  "language_info": {
   "codemirror_mode": {
    "name": "ipython",
    "version": 3
   },
   "file_extension": ".py",
   "mimetype": "text/x-python",
   "name": "python",
   "nbconvert_exporter": "python",
   "pygments_lexer": "ipython3",
   "version": "3.7.3"
  }
 },
 "nbformat": 4,
 "nbformat_minor": 2
}
